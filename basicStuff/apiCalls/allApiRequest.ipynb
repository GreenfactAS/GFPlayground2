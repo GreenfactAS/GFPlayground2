{
 "cells": [
  {
   "cell_type": "code",
   "execution_count": 14,
   "metadata": {},
   "outputs": [
    {
     "name": "stdout",
     "output_type": "stream",
     "text": [
      "API REQUEST: EEX\n"
     ]
    },
    {
     "name": "stderr",
     "output_type": "stream",
     "text": [
      "c:\\Users\\PaulAyling\\AppData\\Local\\Programs\\Python\\Python310\\lib\\site-packages\\urllib3\\connectionpool.py:1045: InsecureRequestWarning: Unverified HTTPS request is being made to host 'api1.datasource.eex-group.com'. Adding certificate verification is strongly advised. See: https://urllib3.readthedocs.io/en/1.26.x/advanced-usage.html#ssl-warnings\n",
      "  warnings.warn(\n"
     ]
    },
    {
     "ename": "AttributeError",
     "evalue": "'Response' object has no attribute 'Body'",
     "output_type": "error",
     "traceback": [
      "\u001b[1;31m---------------------------------------------------------------------------\u001b[0m",
      "\u001b[1;31mAttributeError\u001b[0m                            Traceback (most recent call last)",
      "\u001b[1;32mc:\\Users\\PaulAyling\\Documents\\BACKEND\\code\\data-platform\\scratch\\apiCalls\\allApiRequest.ipynb Cell 1\u001b[0m in \u001b[0;36m<cell line: 15>\u001b[1;34m()\u001b[0m\n\u001b[0;32m      <a href='vscode-notebook-cell:/c%3A/Users/PaulAyling/Documents/BACKEND/code/data-platform/scratch/apiCalls/allApiRequest.ipynb#W0sZmlsZQ%3D%3D?line=2'>3</a>\u001b[0m query \u001b[39m=\u001b[39m {\n\u001b[0;32m      <a href='vscode-notebook-cell:/c%3A/Users/PaulAyling/Documents/BACKEND/code/data-platform/scratch/apiCalls/allApiRequest.ipynb#W0sZmlsZQ%3D%3D?line=3'>4</a>\u001b[0m         \u001b[39m'\u001b[39m\u001b[39mreturnType\u001b[39m\u001b[39m'\u001b[39m:\u001b[39m'\u001b[39m\u001b[39mTRADES\u001b[39m\u001b[39m'\u001b[39m,\n\u001b[0;32m      <a href='vscode-notebook-cell:/c%3A/Users/PaulAyling/Documents/BACKEND/code/data-platform/scratch/apiCalls/allApiRequest.ipynb#W0sZmlsZQ%3D%3D?line=4'>5</a>\u001b[0m         \u001b[39m'\u001b[39m\u001b[39mproductType\u001b[39m\u001b[39m'\u001b[39m:\u001b[39m'\u001b[39m\u001b[39mOPTIONS\u001b[39m\u001b[39m'\u001b[39m,\n\u001b[0;32m      <a href='vscode-notebook-cell:/c%3A/Users/PaulAyling/Documents/BACKEND/code/data-platform/scratch/apiCalls/allApiRequest.ipynb#W0sZmlsZQ%3D%3D?line=5'>6</a>\u001b[0m         \u001b[39m'\u001b[39m\u001b[39mtradeDate\u001b[39m\u001b[39m'\u001b[39m:\u001b[39mf\u001b[39m\u001b[39m'\u001b[39m\u001b[39m2022-08-01\u001b[39m\u001b[39m'\u001b[39m,\n\u001b[0;32m      <a href='vscode-notebook-cell:/c%3A/Users/PaulAyling/Documents/BACKEND/code/data-platform/scratch/apiCalls/allApiRequest.ipynb#W0sZmlsZQ%3D%3D?line=6'>7</a>\u001b[0m         \u001b[39m'\u001b[39m\u001b[39mcommodity\u001b[39m\u001b[39m'\u001b[39m:\u001b[39m'\u001b[39m\u001b[39mPOWER\u001b[39m\u001b[39m'\u001b[39m\n\u001b[0;32m      <a href='vscode-notebook-cell:/c%3A/Users/PaulAyling/Documents/BACKEND/code/data-platform/scratch/apiCalls/allApiRequest.ipynb#W0sZmlsZQ%3D%3D?line=7'>8</a>\u001b[0m                 }\n\u001b[0;32m      <a href='vscode-notebook-cell:/c%3A/Users/PaulAyling/Documents/BACKEND/code/data-platform/scratch/apiCalls/allApiRequest.ipynb#W0sZmlsZQ%3D%3D?line=8'>9</a>\u001b[0m response \u001b[39m=\u001b[39m requests\u001b[39m.\u001b[39mget(\n\u001b[0;32m     <a href='vscode-notebook-cell:/c%3A/Users/PaulAyling/Documents/BACKEND/code/data-platform/scratch/apiCalls/allApiRequest.ipynb#W0sZmlsZQ%3D%3D?line=9'>10</a>\u001b[0m     \u001b[39m\"\u001b[39m\u001b[39mhttps://api1.datasource.eex-group.com/getDerivatives/json\u001b[39m\u001b[39m\"\u001b[39m,\n\u001b[0;32m     <a href='vscode-notebook-cell:/c%3A/Users/PaulAyling/Documents/BACKEND/code/data-platform/scratch/apiCalls/allApiRequest.ipynb#W0sZmlsZQ%3D%3D?line=10'>11</a>\u001b[0m     params\u001b[39m=\u001b[39mquery,\n\u001b[0;32m     <a href='vscode-notebook-cell:/c%3A/Users/PaulAyling/Documents/BACKEND/code/data-platform/scratch/apiCalls/allApiRequest.ipynb#W0sZmlsZQ%3D%3D?line=11'>12</a>\u001b[0m     auth\u001b[39m=\u001b[39mrequests\u001b[39m.\u001b[39mauth\u001b[39m.\u001b[39mHTTPBasicAuth(\u001b[39m'\u001b[39m\u001b[39mEEX_7563\u001b[39m\u001b[39m'\u001b[39m, \u001b[39m'\u001b[39m\u001b[39mdua876v2\u001b[39m\u001b[39m'\u001b[39m),verify\u001b[39m=\u001b[39m\u001b[39mFalse\u001b[39;00m\n\u001b[0;32m     <a href='vscode-notebook-cell:/c%3A/Users/PaulAyling/Documents/BACKEND/code/data-platform/scratch/apiCalls/allApiRequest.ipynb#W0sZmlsZQ%3D%3D?line=12'>13</a>\u001b[0m     ) \n\u001b[1;32m---> <a href='vscode-notebook-cell:/c%3A/Users/PaulAyling/Documents/BACKEND/code/data-platform/scratch/apiCalls/allApiRequest.ipynb#W0sZmlsZQ%3D%3D?line=14'>15</a>\u001b[0m \u001b[39mprint\u001b[39m(\u001b[39m\"\u001b[39m\u001b[39mRESPONSE\u001b[39m\u001b[39m\"\u001b[39m, response\u001b[39m.\u001b[39;49mBody)\n",
      "\u001b[1;31mAttributeError\u001b[0m: 'Response' object has no attribute 'Body'"
     ]
    }
   ],
   "source": [
    "print(\"API REQUEST: EEX\")\n",
    "import requests\n",
    "query = {\n",
    "        'returnType':'TRADES',\n",
    "        'productType':'OPTIONS',\n",
    "        'tradeDate':f'2022-08-01',\n",
    "        'commodity':'POWER'\n",
    "                }\n",
    "response = requests.get(\n",
    "    \"https://api1.datasource.eex-group.com/getDerivatives/json\",\n",
    "    params=query,\n",
    "    auth=requests.auth.HTTPBasicAuth('EEX_7563', 'dua876v2'),verify=False\n",
    "    ) \n",
    "        \n",
    "print(\"RESPONSE\", response.Body)"
   ]
  }
 ],
 "metadata": {
  "kernelspec": {
   "display_name": "Python 3.10.6 64-bit",
   "language": "python",
   "name": "python3"
  },
  "language_info": {
   "codemirror_mode": {
    "name": "ipython",
    "version": 3
   },
   "file_extension": ".py",
   "mimetype": "text/x-python",
   "name": "python",
   "nbconvert_exporter": "python",
   "pygments_lexer": "ipython3",
   "version": "3.10.6"
  },
  "orig_nbformat": 4,
  "vscode": {
   "interpreter": {
    "hash": "5bdc8fe05d06b2b9ea462e0bfa938c55ec8e3a17e4f2c177b169e267a5841d7f"
   }
  }
 },
 "nbformat": 4,
 "nbformat_minor": 2
}
