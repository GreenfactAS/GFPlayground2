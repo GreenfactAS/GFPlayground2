{
 "cells": [
  {
   "cell_type": "code",
   "execution_count": 1,
   "metadata": {},
   "outputs": [
    {
     "name": "stderr",
     "output_type": "stream",
     "text": [
      "12:15:32.082 | INFO    | prefect.engine - Created flow run 'fractal-junglefowl' for flow 'my-flow'\n",
      "12:15:32.227 | INFO    | Flow run 'fractal-junglefowl' - Created task run 'my_task-20c6ece6-0' for task 'my_task'\n",
      "12:15:32.228 | INFO    | Flow run 'fractal-junglefowl' - Submitted task run 'my_task-20c6ece6-0' for execution.\n",
      "12:15:32.280 | INFO    | Task run 'my_task-20c6ece6-0' - Finished in state Completed()\n",
      "12:15:32.304 | INFO    | Flow run 'fractal-junglefowl' - Finished in state Completed('All states completed.')\n"
     ]
    }
   ],
   "source": [
    "import time\n",
    "from prefect import task, flow\n",
    "\n",
    "@task\n",
    "def my_task():\n",
    "    return 1\n",
    "\n",
    "@flow\n",
    "def my_flow():\n",
    "    result = my_task.submit()\n",
    "\n",
    "if __name__ == \"__main__\":\n",
    "    my_flow()"
   ]
  }
 ],
 "metadata": {
  "kernelspec": {
   "display_name": "Python 3.10.4 64-bit",
   "language": "python",
   "name": "python3"
  },
  "language_info": {
   "codemirror_mode": {
    "name": "ipython",
    "version": 3
   },
   "file_extension": ".py",
   "mimetype": "text/x-python",
   "name": "python",
   "nbconvert_exporter": "python",
   "pygments_lexer": "ipython3",
   "version": "3.10.4"
  },
  "orig_nbformat": 4,
  "vscode": {
   "interpreter": {
    "hash": "916dbcbb3f70747c44a77c7bcd40155683ae19c65e1c03b4aa3499c5328201f1"
   }
  }
 },
 "nbformat": 4,
 "nbformat_minor": 2
}
