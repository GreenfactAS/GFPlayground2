{
 "cells": [
  {
   "cell_type": "code",
   "execution_count": 1,
   "metadata": {},
   "outputs": [
    {
     "name": "stderr",
     "output_type": "stream",
     "text": [
      "12:19:17.546 | INFO    | prefect.engine - Created flow run 'mature-cheetah' for flow 'log-flow'\n",
      "12:19:17.690 | INFO    | Flow run 'mature-cheetah' - Created task run 'log_task-82fbd1c0-0' for task 'log_task'\n",
      "12:19:17.692 | INFO    | Flow run 'mature-cheetah' - Executing 'log_task-82fbd1c0-0' immediately...\n",
      "12:19:17.721 | INFO    | Task run 'log_task-82fbd1c0-0' - Hello Marvin!\n",
      "12:19:17.723 | INFO    | Task run 'log_task-82fbd1c0-0' - Prefect Version = 2.2.0 🚀\n",
      "12:19:17.746 | INFO    | Task run 'log_task-82fbd1c0-0' - Finished in state Completed()\n",
      "12:19:17.773 | INFO    | Flow run 'mature-cheetah' - Finished in state Completed('All states completed.')\n"
     ]
    },
    {
     "data": {
      "text/plain": [
       "[Completed(message=None, type=COMPLETED, result=None)]"
      ]
     },
     "execution_count": 1,
     "metadata": {},
     "output_type": "execute_result"
    }
   ],
   "source": [
    "# https://docs.prefect.io/tutorials/deployments/#components-of-a-deployment\n",
    "import prefect\n",
    "from prefect import flow, task, get_run_logger\n",
    "\n",
    "@task\n",
    "def log_task(name):\n",
    "    logger = get_run_logger()\n",
    "    logger.info(\"Hello %s!\", name)\n",
    "    logger.info(\"Prefect Version = %s 🚀\", prefect.__version__)\n",
    "\n",
    "@flow()\n",
    "def log_flow(name: str):\n",
    "    log_task(name)\n",
    "\n",
    "log_flow(\"Marvin\")"
   ]
  }
 ],
 "metadata": {
  "kernelspec": {
   "display_name": "Python 3.10.4 64-bit",
   "language": "python",
   "name": "python3"
  },
  "language_info": {
   "codemirror_mode": {
    "name": "ipython",
    "version": 3
   },
   "file_extension": ".py",
   "mimetype": "text/x-python",
   "name": "python",
   "nbconvert_exporter": "python",
   "pygments_lexer": "ipython3",
   "version": "3.10.4"
  },
  "orig_nbformat": 4,
  "vscode": {
   "interpreter": {
    "hash": "916dbcbb3f70747c44a77c7bcd40155683ae19c65e1c03b4aa3499c5328201f1"
   }
  }
 },
 "nbformat": 4,
 "nbformat_minor": 2
}
