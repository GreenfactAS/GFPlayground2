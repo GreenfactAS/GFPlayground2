{
 "cells": [
  {
   "cell_type": "code",
   "execution_count": null,
   "metadata": {},
   "outputs": [],
   "source": [
    "#OPtional Task Runners\n",
    "from prefect import flow, task\n",
    "from prefect.task_runners import SequentialTaskRunner\n",
    "\n",
    "@task\n",
    "def first_task(num):\n",
    "    return num + num\n",
    "\n",
    "@task\n",
    "def second_task(num):\n",
    "    return num * num\n",
    "\n",
    "@flow(name=\"My Example Flow\", \n",
    "      task_runner=SequentialTaskRunner(),\n",
    ")\n",
    "def my_flow(num):\n",
    "    plusnum = first_task.submit(num)\n",
    "    sqnum = second_task.submit(plusnum)\n",
    "    print(f\"add: {plusnum.result()}, square: {sqnum.result()}\")\n",
    "\n",
    "my_flow(5)"
   ]
  }
 ],
 "metadata": {
  "language_info": {
   "name": "python"
  },
  "orig_nbformat": 4
 },
 "nbformat": 4,
 "nbformat_minor": 2
}
