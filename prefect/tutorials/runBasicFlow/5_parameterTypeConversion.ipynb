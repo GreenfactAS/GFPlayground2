{
 "cells": [
  {
   "cell_type": "code",
   "execution_count": 1,
   "metadata": {},
   "outputs": [
    {
     "name": "stderr",
     "output_type": "stream",
     "text": [
      "15:42:13.754 | INFO    | prefect.engine - Created flow run 'magic-tiger' for flow 'validation-flow'\n",
      "15:42:13.917 | INFO    | Flow run 'magic-tiger' - Created task run 'printer-42a17ec5-0' for task 'printer'\n",
      "15:42:13.919 | INFO    | Flow run 'magic-tiger' - Executing 'printer-42a17ec5-0' immediately...\n",
      "15:42:13.987 | INFO    | Task run 'printer-42a17ec5-0' - Finished in state Completed()\n",
      "15:42:14.010 | INFO    | Flow run 'magic-tiger' - Created task run 'printer-42a17ec5-1' for task 'printer'\n",
      "15:42:14.011 | INFO    | Flow run 'magic-tiger' - Executing 'printer-42a17ec5-1' immediately...\n",
      "15:42:14.066 | INFO    | Task run 'printer-42a17ec5-1' - Finished in state Completed()\n",
      "15:42:14.102 | INFO    | Flow run 'magic-tiger' - Finished in state Completed('All states completed.')\n"
     ]
    },
    {
     "name": "stdout",
     "output_type": "stream",
     "text": [
      "Received a <class 'int'> with value 42\n",
      "Received a <class 'str'> with value 100\n"
     ]
    },
    {
     "data": {
      "text/plain": [
       "[Completed(message=None, type=COMPLETED, result=None),\n",
       " Completed(message=None, type=COMPLETED, result=None)]"
      ]
     },
     "execution_count": 1,
     "metadata": {},
     "output_type": "execute_result"
    }
   ],
   "source": [
    "from prefect import task, flow\n",
    "\n",
    "@task\n",
    "def printer(obj):\n",
    "    print(f\"Received a {type(obj)} with value {obj}\")\n",
    "\n",
    "# note that we define the flow with type hints\n",
    "@flow\n",
    "def validation_flow(x: int, y: str):\n",
    "    printer(x)\n",
    "    printer(y)\n",
    "\n",
    "validation_flow(x=\"42\", y=100)\n"
   ]
  },
  {
   "cell_type": "code",
   "execution_count": null,
   "metadata": {},
   "outputs": [],
   "source": []
  }
 ],
 "metadata": {
  "kernelspec": {
   "display_name": "Python 3.10.4 64-bit",
   "language": "python",
   "name": "python3"
  },
  "language_info": {
   "codemirror_mode": {
    "name": "ipython",
    "version": 3
   },
   "file_extension": ".py",
   "mimetype": "text/x-python",
   "name": "python",
   "nbconvert_exporter": "python",
   "pygments_lexer": "ipython3",
   "version": "3.10.4"
  },
  "orig_nbformat": 4,
  "vscode": {
   "interpreter": {
    "hash": "916dbcbb3f70747c44a77c7bcd40155683ae19c65e1c03b4aa3499c5328201f1"
   }
  }
 },
 "nbformat": 4,
 "nbformat_minor": 2
}
