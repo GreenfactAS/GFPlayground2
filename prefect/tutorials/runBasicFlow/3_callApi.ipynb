{
 "cells": [
  {
   "cell_type": "code",
   "execution_count": 1,
   "metadata": {},
   "outputs": [
    {
     "name": "stderr",
     "output_type": "stream",
     "text": [
      "13:47:44.421 | INFO    | prefect.engine - Created flow run 'charcoal-hummingbird' for flow 'api-flow'\n",
      "13:47:44.609 | INFO    | Flow run 'charcoal-hummingbird' - Created task run 'call_api-ded10bed-0' for task 'call_api'\n",
      "13:47:44.610 | INFO    | Flow run 'charcoal-hummingbird' - Executing 'call_api-ded10bed-0' immediately...\n",
      "13:47:45.096 | INFO    | Task run 'call_api-ded10bed-0' - Finished in state Completed()\n",
      "13:47:45.136 | INFO    | Flow run 'charcoal-hummingbird' - Finished in state Completed()\n"
     ]
    },
    {
     "name": "stdout",
     "output_type": "stream",
     "text": [
      "200\n",
      "{'fact': 'Cats respond most readily to names that end in an \\\\ee\\\\\" sound.\"\"\"', 'length': 65}\n"
     ]
    }
   ],
   "source": [
    "import requests\n",
    "from prefect import flow, task\n",
    "\n",
    "@task\n",
    "def call_api(url):\n",
    "    response = requests.get(url)\n",
    "    print(response.status_code)\n",
    "    return response.json()\n",
    "\n",
    "@flow\n",
    "def api_flow(url):\n",
    "    fact_json = call_api(url)\n",
    "    return fact_json\n",
    "\n",
    "print(api_flow(\"https://catfact.ninja/fact\"))"
   ]
  }
 ],
 "metadata": {
  "kernelspec": {
   "display_name": "Python 3.10.4 64-bit",
   "language": "python",
   "name": "python3"
  },
  "language_info": {
   "codemirror_mode": {
    "name": "ipython",
    "version": 3
   },
   "file_extension": ".py",
   "mimetype": "text/x-python",
   "name": "python",
   "nbconvert_exporter": "python",
   "pygments_lexer": "ipython3",
   "version": "3.10.4"
  },
  "orig_nbformat": 4,
  "vscode": {
   "interpreter": {
    "hash": "916dbcbb3f70747c44a77c7bcd40155683ae19c65e1c03b4aa3499c5328201f1"
   }
  }
 },
 "nbformat": 4,
 "nbformat_minor": 2
}
