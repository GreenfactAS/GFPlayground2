{
 "cells": [
  {
   "cell_type": "code",
   "execution_count": 1,
   "metadata": {},
   "outputs": [
    {
     "name": "stderr",
     "output_type": "stream",
     "text": [
      "08:31:57.342 | INFO    | prefect.engine - Created flow run 'rigorous-ammonite' for flow 'model-validator'\n",
      "08:31:57.500 | INFO    | Flow run 'rigorous-ammonite' - Created task run 'printer-42a17ec5-0' for task 'printer'\n",
      "08:31:57.502 | INFO    | Flow run 'rigorous-ammonite' - Executing 'printer-42a17ec5-0' immediately...\n",
      "08:31:57.561 | INFO    | Task run 'printer-42a17ec5-0' - Finished in state Completed()\n",
      "08:31:57.593 | INFO    | Flow run 'rigorous-ammonite' - Finished in state Completed('All states completed.')\n"
     ]
    },
    {
     "name": "stdout",
     "output_type": "stream",
     "text": [
      "Received a <class '__main__.Model'> with value a=42 b=0.0 c='55'\n"
     ]
    },
    {
     "data": {
      "text/plain": [
       "[Completed(message=None, type=COMPLETED, result=None)]"
      ]
     },
     "execution_count": 1,
     "metadata": {},
     "output_type": "execute_result"
    }
   ],
   "source": [
    "# Pydantic is similar to typescript\n",
    "\n",
    "from prefect import flow, task\n",
    "from pydantic import BaseModel\n",
    "\n",
    "class Model(BaseModel):\n",
    "    a: int\n",
    "    b: float\n",
    "    c: str\n",
    "\n",
    "@task\n",
    "def printer(obj):\n",
    "    print(f\"Received a {type(obj)} with value {obj}\")\n",
    "\n",
    "@flow\n",
    "def model_validator(model: Model):\n",
    "    printer(model)\n",
    "\n",
    "model_validator({\"a\": 42, \"b\": 0, \"c\": 55})"
   ]
  }
 ],
 "metadata": {
  "kernelspec": {
   "display_name": "Python 3.10.4 64-bit",
   "language": "python",
   "name": "python3"
  },
  "language_info": {
   "codemirror_mode": {
    "name": "ipython",
    "version": 3
   },
   "file_extension": ".py",
   "mimetype": "text/x-python",
   "name": "python",
   "nbconvert_exporter": "python",
   "pygments_lexer": "ipython3",
   "version": "3.10.4"
  },
  "orig_nbformat": 4,
  "vscode": {
   "interpreter": {
    "hash": "916dbcbb3f70747c44a77c7bcd40155683ae19c65e1c03b4aa3499c5328201f1"
   }
  }
 },
 "nbformat": 4,
 "nbformat_minor": 2
}
