{
 "cells": [
  {
   "cell_type": "code",
   "execution_count": 1,
   "metadata": {},
   "outputs": [
    {
     "name": "stderr",
     "output_type": "stream",
     "text": [
      "13:41:17.142 | INFO    | prefect.engine - Created flow run 'nano-crow' for flow 'call-api'\n",
      "13:41:17.531 | INFO    | Flow run 'nano-crow' - Finished in state Completed()\n"
     ]
    },
    {
     "name": "stdout",
     "output_type": "stream",
     "text": [
      "{'date': '08-29-2022', 'milliseconds_since_epoch': 1661773278030, 'time': '11:41:18 AM'}\n"
     ]
    }
   ],
   "source": [
    "import requests\n",
    "from prefect import flow\n",
    "\n",
    "@flow\n",
    "def call_api(url):\n",
    "    return requests.get(url).json()\n",
    "\n",
    "api_result = call_api(\"http://time.jsontest.com/\")\n",
    "print(api_result)"
   ]
  },
  {
   "cell_type": "code",
   "execution_count": null,
   "metadata": {},
   "outputs": [],
   "source": []
  }
 ],
 "metadata": {
  "kernelspec": {
   "display_name": "Python 3.10.4 64-bit",
   "language": "python",
   "name": "python3"
  },
  "language_info": {
   "codemirror_mode": {
    "name": "ipython",
    "version": 3
   },
   "file_extension": ".py",
   "mimetype": "text/x-python",
   "name": "python",
   "nbconvert_exporter": "python",
   "pygments_lexer": "ipython3",
   "version": "3.10.4"
  },
  "orig_nbformat": 4,
  "vscode": {
   "interpreter": {
    "hash": "916dbcbb3f70747c44a77c7bcd40155683ae19c65e1c03b4aa3499c5328201f1"
   }
  }
 },
 "nbformat": 4,
 "nbformat_minor": 2
}
