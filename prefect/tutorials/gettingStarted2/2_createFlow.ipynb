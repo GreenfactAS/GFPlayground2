{
 "cells": [
  {
   "cell_type": "code",
   "execution_count": 3,
   "metadata": {},
   "outputs": [],
   "source": [
    "# https://www.prefect.io/guide/blog/getting-started-prefect-2/\n",
    "\n",
    "import random\n",
    "from prefect import flow    # NEW **** \n",
    "\n",
    "def call_unreliable_api():\n",
    "    choices = [{\"data\": 42}, \"failure\"]\n",
    "    res = random.choice(choices)\n",
    "    if res == \"failure\":\n",
    "        raise Exception(\"Our unreliable service failed\")\n",
    "    else:\n",
    "        return res\n",
    "\n",
    "def augment_data(data: dict, msg: str):\n",
    "    data[\"message\"] = msg\n",
    "    return data\n",
    "\n",
    "def write_results_to_database(data: dict):\n",
    "    print(f\"Wrote {data} to database successfully!\")\n",
    "    return \"Success!\"\n",
    "\n",
    "@flow   # NEW ****\n",
    "def pipeline2(msg: str):\n",
    "    api_result = call_unreliable_api()        \n",
    "    augmented_data = augment_data(data=api_result, msg=msg)\n",
    "    write_results_to_database(augmented_data)"
   ]
  },
  {
   "cell_type": "code",
   "execution_count": 4,
   "metadata": {},
   "outputs": [
    {
     "name": "stderr",
     "output_type": "stream",
     "text": [
      "14:14:23.885 | INFO    | prefect.engine - Created flow run 'ochre-porcupine' for flow 'pipeline2'\n",
      "14:14:24.355 | INFO    | Flow run 'ochre-porcupine' - Finished in state Completed()\n"
     ]
    },
    {
     "name": "stdout",
     "output_type": "stream",
     "text": [
      "Wrote {'data': 42, 'message': 'Trying a flow!'} to database successfully!\n"
     ]
    }
   ],
   "source": [
    "pipeline2(\"Trying a flow!\")"
   ]
  }
 ],
 "metadata": {
  "kernelspec": {
   "display_name": "Python 3.10.4 64-bit",
   "language": "python",
   "name": "python3"
  },
  "language_info": {
   "codemirror_mode": {
    "name": "ipython",
    "version": 3
   },
   "file_extension": ".py",
   "mimetype": "text/x-python",
   "name": "python",
   "nbconvert_exporter": "python",
   "pygments_lexer": "ipython3",
   "version": "3.10.4"
  },
  "orig_nbformat": 4,
  "vscode": {
   "interpreter": {
    "hash": "916dbcbb3f70747c44a77c7bcd40155683ae19c65e1c03b4aa3499c5328201f1"
   }
  }
 },
 "nbformat": 4,
 "nbformat_minor": 2
}
