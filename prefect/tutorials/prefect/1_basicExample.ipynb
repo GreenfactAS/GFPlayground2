{
 "cells": [
  {
   "cell_type": "code",
   "execution_count": 1,
   "metadata": {},
   "outputs": [
    {
     "name": "stdout",
     "output_type": "stream",
     "text": [
      "basicExample running........\n"
     ]
    },
    {
     "name": "stderr",
     "output_type": "stream",
     "text": [
      "11:04:23.607 | INFO    | prefect.engine - Created flow run 'interesting-buzzard' for flow 'github-stars'\n",
      "11:04:23.915 | INFO    | Flow run 'interesting-buzzard' - Created task run 'get_stars-2ca9fbe1-0' for task 'get_stars'\n",
      "11:04:23.917 | INFO    | Flow run 'interesting-buzzard' - Executing 'get_stars-2ca9fbe1-0' immediately...\n",
      "11:04:24.384 | INFO    | Task run 'get_stars-2ca9fbe1-0' - Finished in state Completed()\n",
      "11:04:24.402 | INFO    | Flow run 'interesting-buzzard' - Created task run 'get_stars-2ca9fbe1-1' for task 'get_stars'\n",
      "11:04:24.403 | INFO    | Flow run 'interesting-buzzard' - Executing 'get_stars-2ca9fbe1-1' immediately...\n"
     ]
    },
    {
     "name": "stdout",
     "output_type": "stream",
     "text": [
      "PrefectHQ/Prefect has 9926 stars!\n"
     ]
    },
    {
     "name": "stderr",
     "output_type": "stream",
     "text": [
      "11:04:24.869 | INFO    | Task run 'get_stars-2ca9fbe1-1' - Finished in state Completed()\n",
      "11:04:24.908 | INFO    | Flow run 'interesting-buzzard' - Created task run 'get_stars-2ca9fbe1-2' for task 'get_stars'\n",
      "11:04:24.910 | INFO    | Flow run 'interesting-buzzard' - Executing 'get_stars-2ca9fbe1-2' immediately...\n"
     ]
    },
    {
     "name": "stdout",
     "output_type": "stream",
     "text": [
      "PrefectHQ/prefect-aws has 31 stars!\n"
     ]
    },
    {
     "name": "stderr",
     "output_type": "stream",
     "text": [
      "11:04:25.406 | INFO    | Task run 'get_stars-2ca9fbe1-2' - Finished in state Completed()\n",
      "11:04:25.451 | INFO    | Flow run 'interesting-buzzard' - Finished in state Completed('All states completed.')\n"
     ]
    },
    {
     "name": "stdout",
     "output_type": "stream",
     "text": [
      "PrefectHQ/prefect-dbt has 44 stars!\n"
     ]
    },
    {
     "data": {
      "text/plain": [
       "[Completed(message=None, type=COMPLETED, result=None),\n",
       " Completed(message=None, type=COMPLETED, result=None),\n",
       " Completed(message=None, type=COMPLETED, result=None)]"
      ]
     },
     "execution_count": 1,
     "metadata": {},
     "output_type": "execute_result"
    }
   ],
   "source": [
    "# BASIC EXAMPLE FROM https://docs.prefect.io/\n",
    "print(\"basicExample running........\")\n",
    "from prefect import flow, task\n",
    "import httpx\n",
    "\n",
    "@task(retries=3)\n",
    "def get_stars(repo):\n",
    "    url = f\"https://api.github.com/repos/{repo}\"\n",
    "    count = httpx.get(url).json()[\"stargazers_count\"]\n",
    "    print(f\"{repo} has {count} stars!\")\n",
    "\n",
    "@flow\n",
    "def github_stars(repos):\n",
    "    for repo in repos:\n",
    "        get_stars(repo)\n",
    "\n",
    "# call the flow!\n",
    "github_stars([\"PrefectHQ/Prefect\", \"PrefectHQ/prefect-aws\",  \"PrefectHQ/prefect-dbt\"])"
   ]
  },
  {
   "cell_type": "code",
   "execution_count": 2,
   "metadata": {},
   "outputs": [
    {
     "data": {
      "text/plain": [
       "<prefect.flows.Flow at 0x7f9ec4586440>"
      ]
     },
     "execution_count": 2,
     "metadata": {},
     "output_type": "execute_result"
    }
   ],
   "source": [
    "github_stars\n"
   ]
  }
 ],
 "metadata": {
  "kernelspec": {
   "display_name": "Python 3.10.4 64-bit",
   "language": "python",
   "name": "python3"
  },
  "language_info": {
   "codemirror_mode": {
    "name": "ipython",
    "version": 3
   },
   "file_extension": ".py",
   "mimetype": "text/x-python",
   "name": "python",
   "nbconvert_exporter": "python",
   "pygments_lexer": "ipython3",
   "version": "3.10.4"
  },
  "orig_nbformat": 4,
  "vscode": {
   "interpreter": {
    "hash": "916dbcbb3f70747c44a77c7bcd40155683ae19c65e1c03b4aa3499c5328201f1"
   }
  }
 },
 "nbformat": 4,
 "nbformat_minor": 2
}
