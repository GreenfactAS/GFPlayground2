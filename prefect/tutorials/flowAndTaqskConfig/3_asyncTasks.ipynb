{
 "cells": [
  {
   "cell_type": "code",
   "execution_count": 1,
   "metadata": {},
   "outputs": [],
   "source": [
    "from prefect import flow, task\n",
    "from prefect.tasks import task_input_hash\n",
    "from datetime import timedelta\n",
    "\n",
    "@task(cache_key_fn=task_input_hash, cache_expiration=timedelta(minutes=1))\n",
    "def hello_task(name_input):\n",
    "    # Doing some work\n",
    "    print(f\"Saying hello {name_input}\")\n",
    "    return \"hello \" + name_input\n",
    "\n",
    "@flow\n",
    "def hello_flow(name_input):\n",
    "    hello_task(name_input)"
   ]
  },
  {
   "cell_type": "code",
   "execution_count": 3,
   "metadata": {},
   "outputs": [
    {
     "name": "stderr",
     "output_type": "stream",
     "text": [
      "11:19:38.559 | INFO    | prefect.engine - Created flow run 'chocolate-labradoodle' for flow 'hello-flow'\n",
      "11:19:38.711 | INFO    | Flow run 'chocolate-labradoodle' - Created task run 'hello_task-ebe75acb-0' for task 'hello_task'\n",
      "11:19:38.712 | INFO    | Flow run 'chocolate-labradoodle' - Executing 'hello_task-ebe75acb-0' immediately...\n",
      "11:19:38.770 | INFO    | Task run 'hello_task-ebe75acb-0' - Finished in state Completed()\n",
      "11:19:38.795 | INFO    | Flow run 'chocolate-labradoodle' - Finished in state Completed('All states completed.')\n"
     ]
    },
    {
     "name": "stdout",
     "output_type": "stream",
     "text": [
      "Saying hello Bob\n"
     ]
    },
    {
     "data": {
      "text/plain": [
       "[Completed(message=None, type=COMPLETED, result='hello Bob')]"
      ]
     },
     "execution_count": 3,
     "metadata": {},
     "output_type": "execute_result"
    }
   ],
   "source": [
    "hello_flow(\"Bob\")"
   ]
  }
 ],
 "metadata": {
  "kernelspec": {
   "display_name": "Python 3.10.4 64-bit",
   "language": "python",
   "name": "python3"
  },
  "language_info": {
   "codemirror_mode": {
    "name": "ipython",
    "version": 3
   },
   "file_extension": ".py",
   "mimetype": "text/x-python",
   "name": "python",
   "nbconvert_exporter": "python",
   "pygments_lexer": "ipython3",
   "version": "3.10.4"
  },
  "orig_nbformat": 4,
  "vscode": {
   "interpreter": {
    "hash": "916dbcbb3f70747c44a77c7bcd40155683ae19c65e1c03b4aa3499c5328201f1"
   }
  }
 },
 "nbformat": 4,
 "nbformat_minor": 2
}
