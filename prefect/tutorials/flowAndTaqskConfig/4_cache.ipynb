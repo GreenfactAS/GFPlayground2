{
 "cells": [
  {
   "cell_type": "code",
   "execution_count": null,
   "metadata": {},
   "outputs": [],
   "source": [
    "from prefect import flow, task\n",
    "from datetime import timedelta\n",
    "import time\n",
    "\n",
    "def cache_key_from_sum(context, parameters):\n",
    "    print(parameters)\n",
    "    return sum(parameters[\"nums\"])\n",
    "\n",
    "@task(cache_key_fn=cache_key_from_sum, cache_expiration=timedelta(minutes=1))\n",
    "def cached_task(nums):\n",
    "    print('running an expensive operation')  \n",
    "    time.sleep(3)\n",
    "    return sum(nums)\n",
    "\n",
    "@flow\n",
    "def test_caching(nums):\n",
    "    cached_task(nums)"
   ]
  }
 ],
 "metadata": {
  "language_info": {
   "name": "python"
  },
  "orig_nbformat": 4
 },
 "nbformat": 4,
 "nbformat_minor": 2
}
